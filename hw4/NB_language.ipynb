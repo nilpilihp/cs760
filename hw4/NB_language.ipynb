{
 "cells": [
  {
   "cell_type": "code",
   "execution_count": 25,
   "metadata": {},
   "outputs": [],
   "source": [
    "# get data, remove newline\n",
    "import os\n",
    "\n",
    "file_dict = {}\n",
    "files = sorted(os.listdir(\"./languageID\"))\n",
    "for file in files:\n",
    "    f = open(os.path.join(\"./languageID\",file), \"r\")\n",
    "    content = f.read()\n",
    "    f.close()\n",
    "    file_dict.update({file:content})\n",
    "\n",
    "for k, v in file_dict.items():\n",
    "    file_dict[k] = ''.join(v.splitlines())"
   ]
  },
  {
   "cell_type": "code",
   "execution_count": 110,
   "metadata": {},
   "outputs": [
    {
     "name": "stdout",
     "output_type": "stream",
     "text": [
      "['P(y=e)= 0.3333333333333333 ', 'P(y=j)= 0.3333333333333333 ', 'P(y=s)= 0.3333333333333333 ']\n"
     ]
    }
   ],
   "source": [
    "# Q3-1 prior probability\n",
    "import math\n",
    "\n",
    "languages = 'ejs'\n",
    "smoothing_param = 0.5\n",
    "traing_idx = range(10) #0...9\n",
    "prior_count = [smoothing_param]*3\n",
    "for k in file_dict.keys():\n",
    "    for i,l in enumerate(languages):\n",
    "        if l in k and int(k.split('.')[0][1:]) in traing_idx:\n",
    "            prior_count[i] +=1\n",
    "prior_total_count = sum(prior_count)\n",
    "prior_log_prob = {l: math.log(count / total_count) for l,count in zip(languages,prior_total_count)}\n",
    "print([f'P(y={k})= {math.exp(v)} 'for k,v in prior_log_prob.items()])"
   ]
  },
  {
   "cell_type": "code",
   "execution_count": 68,
   "metadata": {},
   "outputs": [],
   "source": [
    "def word_count(string):\n",
    "    word = 'abcdefghijklmnopqrstuvwxyz '\n",
    "    my_dict = {}\n",
    "    for c in word:\n",
    "        my_dict[c] = string.count(c)\n",
    "    return my_dict"
   ]
  },
  {
   "cell_type": "code",
   "execution_count": 140,
   "metadata": {},
   "outputs": [],
   "source": [
    "# count occurance\n",
    "from collections import Counter\n",
    "word = 'abcdefghijklmnopqrstuvwxyz '\n",
    "languages = 'ejs'\n",
    "smoothing_param = 0.5\n",
    "traing_idx = range(10) #0...9\n",
    "count_dict = [Counter({c: smoothing_param for c in word}) for _ in languages]\n",
    "for k, v in file_dict.items():\n",
    "    for i,l in enumerate(languages):\n",
    "        if l in k and int(k.split('.')[0][1:]) in traing_idx:\n",
    "            count_dict[i]+=Counter(word_count(v))\n",
    "\n"
   ]
  },
  {
   "cell_type": "code",
   "execution_count": 161,
   "metadata": {},
   "outputs": [
    {
     "name": "stdout",
     "output_type": "stream",
     "text": [
      "theta_e\n",
      "['0.060', '0.011', '0.022', '0.022', '0.105', '0.019', '0.017', '0.047', '0.055', '0.001', '0.004', '0.029', '0.021', '0.058', '0.064', '0.017', '0.001', '0.054', '0.066', '0.080', '0.027', '0.009', '0.015', '0.001', '0.014', '0.001', '0.179']\n",
      "theta_j\n",
      "['0.132', '0.011', '0.005', '0.017', '0.060', '0.004', '0.014', '0.032', '0.097', '0.002', '0.057', '0.001', '0.040', '0.057', '0.091', '0.001', '0.000', '0.043', '0.042', '0.057', '0.071', '0.000', '0.020', '0.000', '0.014', '0.008', '0.123']\n",
      "theta_s\n",
      "['0.105', '0.008', '0.038', '0.040', '0.114', '0.009', '0.007', '0.005', '0.050', '0.007', '0.000', '0.053', '0.026', '0.054', '0.072', '0.024', '0.008', '0.059', '0.066', '0.036', '0.034', '0.006', '0.000', '0.002', '0.008', '0.003', '0.168']\n"
     ]
    }
   ],
   "source": [
    "# Q3-2, Q3-3conditional probability\n",
    "\n",
    "cond_total_count = [sum(dict.values()) for dict in count_dict]\n",
    "cond_log_prob = {l:  {k:math.log(v/count) for k, v in dict.items()}  for l,count,dict in zip(languages,cond_total_count,count_dict)}\n",
    "\n",
    "for l in languages:\n",
    "    print(f'theta_{l}')\n",
    "    print([f'{math.exp(v):.3f}' for v in cond_log_prob[l].values()])\n"
   ]
  },
  {
   "cell_type": "code",
   "execution_count": 211,
   "metadata": {},
   "outputs": [
    {
     "name": "stdout",
     "output_type": "stream",
     "text": [
      "p(x | y = e) = e^(-7841.865447060635)\n",
      "p(x | y = j) = e^(-8771.433079075032)\n",
      "p(x | y = s) = e^(-8467.282044010557)\n"
     ]
    }
   ],
   "source": [
    "#Q3-4 \n",
    "bow = word_count(file_dict['e10.txt'])\n",
    "log_likelihood = {}\n",
    "for l in languages:\n",
    "    log_likelihood.update({l: sum([bow[k] * v for k,v in cond_log_prob[l].items()])})\n",
    "\n",
    "for l in languages:\n",
    "    print(f'p(x | y = {l}) = e^({log_likelihood[l]})')"
   ]
  },
  {
   "cell_type": "code",
   "execution_count": 213,
   "metadata": {},
   "outputs": [
    {
     "name": "stdout",
     "output_type": "stream",
     "text": [
      "p(y = e) | x) = e^(-7842.964059349303)\n",
      "p(y = j) | x) = e^(-8772.5316913637)\n",
      "p(y = s) | x) = e^(-8468.380656299225)\n"
     ]
    }
   ],
   "source": [
    "#Q3-5 posterior \n",
    "unnorm_log_posterior = {}\n",
    "for l in languages:\n",
    "    unnorm_log_posterior.update({l: log_likelihood[l] + prior_log_prob[l]}) #stored in log, so add instead of multiply\n",
    "\n",
    "for l in languages:\n",
    "    print(f'p(y = {l}) | x) = e^({unnorm_log_posterior[l]})')"
   ]
  },
  {
   "cell_type": "code",
   "execution_count": 245,
   "metadata": {},
   "outputs": [],
   "source": [
    "def getLabel(dict):\n",
    "    maxProb = max(dict.values()) \n",
    "    for k,v in dict.items():\n",
    "        if v == maxProb:\n",
    "            return k"
   ]
  },
  {
   "cell_type": "code",
   "execution_count": 251,
   "metadata": {},
   "outputs": [
    {
     "name": "stdout",
     "output_type": "stream",
     "text": [
      "['e', 'e', 'e', 'e', 'e', 'e', 'e', 'e', 'e', 'e', 'j', 'j', 'j', 'j', 'j', 'j', 'j', 'j', 'j', 'j', 's', 's', 's', 's', 's', 's', 's', 's', 's', 's']\n",
      "['e', 'e', 'e', 'e', 'e', 'e', 'e', 'e', 'e', 'e', 'j', 'j', 'j', 'j', 'j', 'j', 'j', 'j', 'j', 'j', 's', 's', 's', 's', 's', 's', 's', 's', 's', 's']\n"
     ]
    }
   ],
   "source": [
    "#Q3-6 test set\n",
    "y_true = []\n",
    "y_pred = []\n",
    "for f in languages:\n",
    "    for i in range(10,20): #10...19\n",
    "        bow = word_count(file_dict[f+str(i)+'.txt'])\n",
    "        log_likelihood = {}\n",
    "        unnorm_log_posterior = {}\n",
    "        for l in languages:\n",
    "            log_likelihood.update({l: sum([bow[k] * v for k,v in cond_log_prob[l].items()])})\n",
    "            unnorm_log_posterior.update({l: log_likelihood[l] + prior_log_prob[l]}) \n",
    "        y_true.append(f)\n",
    "        y_pred.append(getLabel(unnorm_log_posterior))\n",
    "print(y_true)\n",
    "print(y_pred)"
   ]
  }
 ],
 "metadata": {
  "kernelspec": {
   "display_name": "cs760",
   "language": "python",
   "name": "python3"
  },
  "language_info": {
   "codemirror_mode": {
    "name": "ipython",
    "version": 3
   },
   "file_extension": ".py",
   "mimetype": "text/x-python",
   "name": "python",
   "nbconvert_exporter": "python",
   "pygments_lexer": "ipython3",
   "version": "3.11.5"
  }
 },
 "nbformat": 4,
 "nbformat_minor": 2
}
